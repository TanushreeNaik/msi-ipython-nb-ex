{
 "cells": [
  {
   "cell_type": "code",
   "execution_count": 1,
   "metadata": {
    "collapsed": false
   },
   "outputs": [
    {
     "data": {
      "text/html": [
       "2"
      ],
      "text/latex": [
       "2"
      ],
      "text/markdown": [
       "2"
      ],
      "text/plain": [
       "[1] 2"
      ]
     },
     "execution_count": 1,
     "metadata": {},
     "output_type": "execute_result"
    }
   ],
   "source": [
    "1+1"
   ]
  },
  {
   "cell_type": "code",
   "execution_count": 2,
   "metadata": {
    "collapsed": false
   },
   "outputs": [
    {
     "ename": "ERROR",
     "evalue": "Error in eval(expr, envir, enclos): object 'pwd' not found\n",
     "output_type": "error",
     "traceback": [
      "Error in eval(expr, envir, enclos): object 'pwd' not found\n"
     ]
    }
   ],
   "source": [
    "pwd"
   ]
  },
  {
   "cell_type": "code",
   "execution_count": 3,
   "metadata": {
    "collapsed": false
   },
   "outputs": [
    {
     "data": {
      "text/html": [
       "<ol class=list-inline>\n",
       "\t<li>'MSI Examples.ipynb'</li>\n",
       "\t<li>'Mesabi-cam.ipynb'</li>\n",
       "\t<li>'Pandas Kepler example.ipynb'</li>\n",
       "\t<li>'README.md'</li>\n",
       "\t<li>'Sample R Notebook.ipynb'</li>\n",
       "\t<li>'Untitled.ipynb'</li>\n",
       "\t<li>'ipython.o352134'</li>\n",
       "\t<li>'kepler.py'</li>\n",
       "\t<li>'notebook'</li>\n",
       "\t<li>'pbs_engines'</li>\n",
       "\t<li>'planets.xls'</li>\n",
       "</ol>\n"
      ],
      "text/latex": [
       "\\begin{enumerate*}\n",
       "\\item 'MSI Examples.ipynb'\n",
       "\\item 'Mesabi-cam.ipynb'\n",
       "\\item 'Pandas Kepler example.ipynb'\n",
       "\\item 'README.md'\n",
       "\\item 'Sample R Notebook.ipynb'\n",
       "\\item 'Untitled.ipynb'\n",
       "\\item 'ipython.o352134'\n",
       "\\item 'kepler.py'\n",
       "\\item 'notebook'\n",
       "\\item 'pbs_engines'\n",
       "\\item 'planets.xls'\n",
       "\\end{enumerate*}\n"
      ],
      "text/markdown": [
       "1. 'MSI Examples.ipynb'\n",
       "2. 'Mesabi-cam.ipynb'\n",
       "3. 'Pandas Kepler example.ipynb'\n",
       "4. 'README.md'\n",
       "5. 'Sample R Notebook.ipynb'\n",
       "6. 'Untitled.ipynb'\n",
       "7. 'ipython.o352134'\n",
       "8. 'kepler.py'\n",
       "9. 'notebook'\n",
       "10. 'pbs_engines'\n",
       "11. 'planets.xls'\n",
       "\n",
       "\n"
      ],
      "text/plain": [
       " [1] \"MSI Examples.ipynb\"          \"Mesabi-cam.ipynb\"           \n",
       " [3] \"Pandas Kepler example.ipynb\" \"README.md\"                  \n",
       " [5] \"Sample R Notebook.ipynb\"     \"Untitled.ipynb\"             \n",
       " [7] \"ipython.o352134\"             \"kepler.py\"                  \n",
       " [9] \"notebook\"                    \"pbs_engines\"                \n",
       "[11] \"planets.xls\"                "
      ]
     },
     "execution_count": 3,
     "metadata": {},
     "output_type": "execute_result"
    }
   ],
   "source": [
    "dir()"
   ]
  },
  {
   "cell_type": "code",
   "execution_count": 4,
   "metadata": {
    "collapsed": false
   },
   "outputs": [
    {
     "data": {
      "text/plain": [
       "R version 3.2.1 (2015-06-18)\n",
       "Platform: x86_64-unknown-linux-gnu (64-bit)\n",
       "Running under: CentOS release 6.7 (Final)\n",
       "\n",
       "locale:\n",
       "[1] C\n",
       "\n",
       "attached base packages:\n",
       "[1] stats     graphics  grDevices utils     datasets  methods   base     \n",
       "\n",
       "loaded via a namespace (and not attached):\n",
       " [1] magrittr_1.5    IRdisplay_0.3   tools_3.2.1     base64enc_0.1-3\n",
       " [5] uuid_0.1-2      stringi_1.0-1   rzmq_0.7.7      IRkernel_0.5   \n",
       " [9] jsonlite_0.9.19 stringr_1.0.0   digest_0.6.8    repr_0.4       \n",
       "[13] evaluate_0.8   "
      ]
     },
     "execution_count": 4,
     "metadata": {},
     "output_type": "execute_result"
    }
   ],
   "source": [
    "sessionInfo()"
   ]
  },
  {
   "cell_type": "code",
   "execution_count": null,
   "metadata": {
    "collapsed": true
   },
   "outputs": [],
   "source": []
  }
 ],
 "metadata": {
  "kernelspec": {
   "display_name": "R 3.2.1",
   "language": "R",
   "name": "ir"
  },
  "language_info": {
   "codemirror_mode": "r",
   "file_extension": ".r",
   "mimetype": "text/x-r-source",
   "name": "R",
   "pygments_lexer": "r",
   "version": "3.2.1"
  }
 },
 "nbformat": 4,
 "nbformat_minor": 0
}
